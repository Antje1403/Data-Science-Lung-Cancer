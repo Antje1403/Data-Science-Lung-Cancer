{
 "cells": [
  {
   "cell_type": "code",
   "execution_count": null,
   "id": "af66db95-99b0-4c76-85e0-f5b37f15a4d2",
   "metadata": {},
   "outputs": [],
   "source": [
    "gender\n",
    "keine signifikanz bei smoker\n",
    "\n",
    "{'allergy': 8.05429205334748e-08,\n",
    " 'alcohol_consuming': 2.4086991438876807e-06,\n",
    " 'swallowing_difficulty': 1.7635190206742663e-05,\n",
    " 'coughing': 5.6529389924273907e-05,\n",
    " 'wheezing': 7.428545731084955e-05,\n",
    " 'peer_pressure': 0.0021672427038890037,\n",
    " 'chest_pain': 0.0022037245782825345,\n",
    " 'yellow_fingers': 0.0030136445827510243,\n",
    " 'fatigue': 0.013337652970972067,\n",
    " 'anxiety': 0.026218689238431004,\n",
    " 'chronic_disease': 0.026943736855531426,\n",
    " 'shortness_of_breath': 0.3739728404282008,\n",
    " 'gender': 0.4735014562057904,\n",
    " 'smoking': 0.6861517524363567}"
   ]
  }
 ],
 "metadata": {
  "kernelspec": {
   "display_name": "Python 3 (ipykernel)",
   "language": "python",
   "name": "python3"
  },
  "language_info": {
   "codemirror_mode": {
    "name": "ipython",
    "version": 3
   },
   "file_extension": ".py",
   "mimetype": "text/x-python",
   "name": "python",
   "nbconvert_exporter": "python",
   "pygments_lexer": "ipython3",
   "version": "3.12.4"
  }
 },
 "nbformat": 4,
 "nbformat_minor": 5
}
