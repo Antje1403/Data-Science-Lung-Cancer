


import zipfile
import pandas as pd
import matplotlib.pyplot as plt
import seaborn as sns
import matplotlib.ticker as mtick
import numpy as np

from imblearn.over_sampling import SMOTE

from sklearn.preprocessing import OneHotEncoder
from sklearn.compose import ColumnTransformer
from sklearn.metrics import accuracy_score, precision_score, recall_score, f1_score, confusion_matrix
from sklearn.tree import DecisionTreeClassifier
from sklearn.linear_model import LogisticRegression
from sklearn.model_selection import cross_val_score


import warnings
# Deactivate Warnings for 'FutureWarning' Klasse
warnings.simplefilter(action='ignore', category=FutureWarning)

# Set option 'use_inf_as_na' to False
pd.set_option('use_inf_as_na', False)





# Path to the zip file
zip_file_path = 'lung_cancer_kaggle.zip'

# Extract the contents of the zip file
with zipfile.ZipFile(zip_file_path, 'r') as zip_ref:
    zip_ref.extractall('data_lung_cancer')  # Extract the contents to a folder

# Load the data from the extracted files using pandas
data = pd.read_csv('data_lung_cancer/survey lung cancer.csv')  # Replace 'your_data_file.csv' with the actual file name
#rename columns to lower case
new_cols = []
for col in list(data.columns):
    new_cols.append(col.lower())
data.columns = new_cols
#show dataframe, Dictionary: 1 = NO, 2 = YES
display(data.head())
data.columns #Space at the end of allergy and fatigue
new_cols = ['gender', 'age', 'smoking', 'yellow_fingers', 'anxiety',
       'peer_pressure', 'chronic disease', 'fatigue', 'allergy', 'wheezing',
       'alcohol consuming', 'coughing', 'shortness of breath',
       'swallowing difficulty', 'chest pain', 'lung_cancer']
data.columns = new_cols


def label_encoder(first, second, first_sub, second_sub, col_name, df):
    """
    Converts two values in a column of a dataframe into two different values for label encoding.
    
    first, second, first_sub, second_sub (str, int, float): Given values and values to substitute with

    return (dataframe): returns altered dataframe
    """
    df[col_name] = df[col_name].replace({first: first_sub})
    df[col_name] = df[col_name].replace({second: second_sub})
    
    
    return df
    
    



#encode 0 = M, 1 = F
label_encoder("M", "F", 0,1, "gender", data)
#encode 1 to 0, and 2 to 1 for consistency
for col_name in [cols for cols in list(data.columns) if cols not in ["gender", "age", "lung_cancer"]]:
    label_encoder(1,2,0,1,col_name, data)
#encode NO to 0, YES to 1
label_encoder("NO", "YES", 0,1, "lung_cancer", data)





data.describe()
#plausible min and max values


data.info()
#no missing values
#correct data type


print(data.duplicated().sum())
data.drop_duplicates(inplace = True)
print(data.duplicated().sum())
data = data.reset_index(drop = True)


# Compute the correlation matrix
corr = data.corr()

# Set up the matplotlib figure
f, ax = plt.subplots(figsize=(8, 6))

# Draw the heatmap
sns.heatmap(corr, cmap='coolwarm', vmax=1, vmin =-1, center=0, 
            square=True, linewidths=.5, cbar_kws={"shrink": .5})

plt.show()

#Note: Important to know would be, how long and how much they actually have been smoking


temp_series = data["lung_cancer"].replace({0: 'No', 1: 'Yes'})

column_name = "lung cancer"
# Create a figure and a set of subplots
fig, ax = plt.subplots(figsize=(4, 2))  # Increase width to make room for the note

# Create a bar plot for the current column
temp_series_count = temp_series.value_counts(normalize=True)*100
temp_series_count.plot(kind='bar', ax=ax)

ax.set_title(f'Bar plot for {column_name}')
ax.set_ylabel('Percent')
ax.set_ylim(0, 100)
ax.tick_params(axis='x', rotation=0)
ax.set_xlabel(column_name)
note = "Over 80% of the data refer to cancer patients. Non-cancer data is under-represented."
# Add note below the plot
fig.text(0.5, -0.3, note, ha='center', fontsize=10)


notes = [
    "Males get more often cancer.\n",
    "Placeholder",
    "Smokers tend to have lung cancer more often.\n",
    "Lung cancer patients have more often yellow fingers than non-cancer patients.\n",
    "Slightly more anxiety with cancer patients.\n",
    "Lung cancer patients experience more peer pressure.\n",
    "Cancer patients have slightly more chronic diseases.\n",
    "Almost two thirds of the people in the dataset as of cancer patients experienced fatique.\n", 
    "More allergies among cancer patients.\n",
    "Wheezing is increased with cancer group.\n",
    "Alcohol consumption is more common in cancer group.\n",
    "Almost 60% of people in the dataset experience coughing. Incresed coughing in the cancer group.\n",
    "60% of people in the dataset experience shortness of breath. More cases of shortness of breath in the cancer group.\n",
    "In the cancer free group only very little people suffer from swallowing difficulty.\n",
    "A noticable increase of chest pain in the cancer group.\n"]

# Iterate through the columns and the corresponding notes
for i, column in enumerate(data.columns):
    if column != "age" and column != "lung_cancer":
        if column == "gender":
            temp_series = data[column].replace({0: 'Male', 1: 'Female'})
        else:
            temp_series = data[column].replace({0: 'No', 1: 'Yes'})
        
        column_name = column.replace("_" , " ")
        # Create a figure and a set of subplots
        fig, ax = plt.subplots(figsize=(8, 4), ncols =2)  # Increase width to make room for the note
        
        # Create a bar plot for the current column
        temp_series_count = temp_series.value_counts(normalize=True)*100
        temp_series_count.plot(kind='bar', ax=ax[0])
        
        ax[0].set_title(f'Bar plot for {column_name}')
        ax[0].set_ylabel('Percent')
        ax[0].set_ylim(0, 100)
        ax[0].tick_params(axis='x', rotation=0)
        ax[0].set_xlabel(column_name)

        temp_data = data["lung_cancer"].replace({0: 'No', 1: 'Yes'})
        temp_series_ct = pd.crosstab(index=temp_data, columns=temp_series, normalize = True)*100
        temp_series_ct.plot(kind="bar", ax=ax[1])
        
        ax[1].set_title(f'Crosstab plot for {column_name}')
        ax[1].set_ylabel('Percent')
        ax[1].set_ylim(0, 100)
        ax[1].tick_params(axis='x', rotation=0)
        ax[1].set_xlabel("lung cancer")

        # Update the legend to include the column name in the legend labels
        handles, labels = ax[1].get_legend_handles_labels()
        ax[1].legend(title=column_name)
        
        # Add note below the plot
        fig.text(0.5, -0.1, notes[i], ha='center', fontsize=10)


        plt.tight_layout()
        plt.show()



mask_cancer = data["lung_cancer"] == 1
mask_nocancer = data["lung_cancer"] == 0

fig, ax = plt.subplots(figsize=(12,4), ncols = 3)
data["age"].plot(kind='hist', ax=ax[0])
data[mask_cancer]["age"].plot(kind="hist", ax=ax[1])
data[mask_nocancer]["age"].plot(kind="hist", ax=ax[2])

ax[0].set_title("Age distribution general")
ax[1].set_title("Age distribution cancer patients")
ax[2].set_title("Age distribution non-cancer")

for i in [0,1,2]:
    ax[i].set_xlabel("Age")

plt.tight_layout()
note = "For some ages only non-cancer data is available."
# Add note below the plot
fig.text(0.5, -0.1, note, ha='center', fontsize=10)


plt.figure(figsize= (4,2))  # Create a new figure for each plot
temp_data = data["lung_cancer"].replace({0: 'No', 1: 'Yes'})
temp_data.value_counts().plot(kind='bar')

plt.xlabel("Lung Cancer")
plt.ylabel('Count')
plt.tick_params(axis='x', rotation=0)
plt.show()
note = "'Lung cancer free' group is under-represented."
# Add note below the plot
fig.text(0.5, -0.3, note, ha='center', fontsize=10)
plt.tight_layout()


#How many people (in percent) who have lung cancer have/are also ...
data_lung_cancer_positive = data[data["lung_cancer"] ==1]
data_lung_cancer_negative = data[data["lung_cancer"] ==0]

fig, ax = plt.subplots(figsize=(10,5), ncols=2)
data_lung_cancer_positive.describe().T.drop(["age", "gender", "lung_cancer"]).loc[:,"mean"].plot(kind="barh", ax=ax[0])
data_lung_cancer_negative.describe().T.drop(["age", "gender", "lung_cancer"]).loc[:,"mean"].plot(kind="barh", ax=ax[1])

#How much more people suffer from symptoms in the cancer group
cancer_to_no_cancer = data_lung_cancer_positive.describe().T.drop(["age", "gender", "lung_cancer"]).loc[:,"mean"] - data_lung_cancer_negative.describe().T.drop(["age", "gender", "lung_cancer"]).loc[:,"mean"]


ax[0].set_xlim(0,1)
ax[1].set_xlim(0,1)

ax[0].set_title("Cancer positive")
ax[1].set_title("Cancer negative")

plt.tight_layout()

for axis in ax:
    axis.xaxis.set_major_formatter(mtick.PercentFormatter(1)) 


bars = cancer_to_no_cancer.plot(kind="barh", xlim=(0,1))
plt.title("Symptoms more abundand in cancer patients [%]")

for bar in bars.patches:
    plt.annotate(f'{bar.get_width():.0%}',                            
                 xy=(bar.get_width(), bar.get_y() + bar.get_height() / 2),  
                 xytext=(5, 0),                                       
                 textcoords='offset points',
                 ha='left', va='center',                              
                 fontsize=10, color='black')

plt.gca().xaxis.set_major_formatter(mtick.PercentFormatter(1)) 

#Only 9% more smokers in the cancer group
#Cancer patients have 49% more allergies
#43% more alcohol consumers in the cancer group --> indicates a overall less healthy lifestile than the non-cancer group. A unhealthy lifestyle can maybe contribute to cancer formation





from sklearn.model_selection import train_test_split

# Define features and target
features = data.drop('lung_cancer', axis=1)  
target = data['lung_cancer']  

# Split in Train and Test Data
features_train, features_test, target_train, target_test = train_test_split(features, target, test_size=0.3, random_state=42)
for df in [features_train, features_test, target_train, target_test]:
    print(df.shape)





pd.crosstab(index=target_train, columns="count")


#Artificial enlargement of the minority category “no lung cancer”
smotesampler = SMOTE(random_state=42)
features_smote, target_smote = smotesampler.fit_resample(features_train, target_train)
pd.crosstab(index=target_smote, columns="count")





data["age"]


pd.crosstab(index=data["age"], columns=data["lung_cancer"]).plot(figsize=(3,2))
#very little datapoints below 45
#cut main points between 45 and 75 in two groups


def feature_engineering(features):
    """
    Performs feature engineering on the provided DataFrame, including grouping age ranges 
    and applying One-Hot-Encoding to the age group.

    Parameters:
    features (DataFrame): The input data as a Pandas DataFrame. 
                          It should contain an 'age' column and any other feature columns.

    Returns:
    DataFrame: A transformed DataFrame with age groups one-hot encoded and 
               other features remaining unchanged.
    """
    # Group people in 'under 45', 'ages 45-59', 'ages 60-74', '75+'
    mask_under_45 = features["age"] < 45
    mask_45_60 = (features["age"] >= 45) & (features["age"] < 60)
    mask_60_75 = (features["age"] >= 60) & (features["age"] < 75)
    mask_over_75 = features["age"] >= 75

    conditions = [mask_under_45, mask_45_60, mask_60_75, mask_over_75]
    values = ['under 45', 'ages 45-59', 'ages 60-74', '75+']

    features['age_group'] = np.select(conditions, values, default='Unknown')

    # Initialize OneHotEncoder
    ohe = OneHotEncoder(sparse_output=False)

    # Initialize ColumnTransformer
    columns = ['age_group']
    encoder = ColumnTransformer([("OHE", ohe, columns)], remainder="passthrough")

    # Fit encoder to the features data
    encoder.fit(features)

    # Get feature names for one-hot encoded features
    ohe_names = encoder.named_transformers_["OHE"].get_feature_names_out(columns)
    # Get names of remaining features
    remaining_names = [name for name in features.columns if name not in columns]

    # Combine new column names
    all_names = list(ohe_names) + remaining_names

    # Transform the features data
    features_transformed = encoder.transform(features)

    # Create a DataFrame with the new column names
    features_ohe = pd.DataFrame(features_transformed, columns=all_names)

    return features_ohe



features_train_ohe = feature_engineering(features_train)

features_train["age_group"].value_counts()


# Compute the correlation matrix
df_train = features_train_ohe.copy()
df_train["lung_cancer"] = target_train
corr = df_train.corr()

corr["lung_cancer"]
#correlation age under 45, underrep. group (3 Members), age, swallowing difficulty


features_train.columns








#We are looking to predict cancer. It is more fatal to miss cancer then to predict cancer, 
#where actually nothing is wrong. Of course, the patient will suffer emotionally, 
#but missing cancer will be more severe for a patient. In this case we want a high Recall. 
#But saying that every patient has cancer is also not good. 
#Therefore precision should also be considered but maybe less weighted.  

def eval_regression(model, features, target):
    """
    Evaluates the trained regression model based on the metrics Accuracy, 
    Precision, Recall and F1 Score

    model (ML model)
    features (df): Features of the test data correspond to those used during training
    target (Series): target of test data

    Returns nothing.
    
    """
    
    target_test_pred = model.predict(features)
    precision = precision_score(target, target_test_pred)
    recall = recall_score(target, target_test_pred)
    accuracy = accuracy_score(target, target_test_pred)
    f1 = f1_score(target, target_test_pred)
    print("Precision Score: ", precision)
    print("Recall Score: ", recall)
    print("Accuracy Score: ", accuracy)
    print("F1 Score: ", f1)

    cm = confusion_matrix(target, target_test_pred)
    display(cm)
    return None





model = DecisionTreeClassifier(class_weight = "balanced", max_depth = 2, random_state = 42)
model.fit(features_train_ohe, target_train)
model.feature_importances_
feature_importance = pd.Series(data = model.feature_importances_, index= features_train_ohe.columns)
feature_importance = feature_importance.sort_values(ascending = False)
print(feature_importance)
#most important features: allergy, swallowing difficulty, smoking

#Crossvalidation to for more reliable estimate of model's performance
cv = cross_val_score(model, features_train_ohe, target_train, scoring="accuracy", cv=5)
print("CrossValScore: " ,cv.mean())

#Generate age groups and OHE them
features_test_ohe = feature_engineering(features_test)
#Evaluate the model
eval_regression(model, features_test_ohe, target_test)








#First let's see after SMOTE and Feature Engineering which symptoms are more abundand in the cancer group 

#How much more people suffer from symptoms in the cancer group SMOTE dataset
features_and_target_train = features_train_ohe.copy()
features_and_target_train["lung_cancer"] = target_train #fuse lung cancer to features for complete dataset
data_lung_cancer_positive = features_and_target_train[features_and_target_train["lung_cancer"] ==1] #datapoints with lung cancer
data_lung_cancer_negative = features_and_target_train[features_and_target_train["lung_cancer"] ==0] #datapoints without lung cancer

#compute how symptoms are more abundand in the cancer group by substracting the percent values of the cancer free group. Symptoms also occuring by the cancer free group can roughly be seen as normal. 
#(Note: There is probably a bias as the cancer free group are presumably not random people from the street but people with symptoms coming to the hospital for a check up)

cancer_to_no_cancer = data_lung_cancer_positive.describe().T.drop(["age", "gender", "lung_cancer"]).loc[:,"mean"] - data_lung_cancer_negative.describe().T.drop(["age", "gender", "lung_cancer"]).loc[:,"mean"]

bars = cancer_to_no_cancer.plot(kind="barh", xlim=(0,1))
plt.title("Symptoms more abundand in cancer patients [%]")

for bar in bars.patches:
    plt.annotate(f'{bar.get_width():.0%}',                            
                 xy=(bar.get_width(), bar.get_y() + bar.get_height() / 2),  
                 xytext=(5, 0),                                       
                 textcoords='offset points',
                 ha='left', va='center',                              
                 fontsize=10, color='black')

plt.gca().xaxis.set_major_formatter(mtick.PercentFormatter(1)) 




#symptoms more abundand in the no cancer group SMOTE dataset
cancer_to_no_cancer_reverse = data_lung_cancer_negative.describe().T.drop(["age", "gender", "lung_cancer"]).loc[:,"mean"] - data_lung_cancer_positive.describe().T.drop(["age", "gender", "lung_cancer"]).loc[:,"mean"] 

bars = cancer_to_no_cancer_reverse.plot(kind="barh", xlim=(0,1))
plt.title("Symptoms more abundand in cancer patients [%]")

for bar in bars.patches:
    plt.annotate(f'{bar.get_width():.0%}',                            
                 xy=(bar.get_width(), bar.get_y() + bar.get_height() / 2),  
                 xytext=(5, 0),                                       
                 textcoords='offset points',
                 ha='left', va='center',                              
                 fontsize=10, color='black')

plt.gca().xaxis.set_major_formatter(mtick.PercentFormatter(1)) 


#Generate age groups and OHE
features_test_ohe = feature_engineering(features_test)


#Train logistic regression model
#features for training
feature_list = [ "swallowing difficulty", "yellow_fingers",
                "alcohol consuming", "allergy", 
                  "wheezing", "fatigue", "age_group_ages 45-59"] 

features_train_log = features_train_ohe.loc[:,feature_list]
model_log = LogisticRegression(solver = "lbfgs", max_iter=1000, C=4, random_state=42) 
model_log.fit(features_train_log, target_train)

#Crossvalidation to for more reliable estimate of model's performance
cv_logrreg = cross_val_score(model_log, features_train_log, target_train, scoring="accuracy", cv=5)
print("CrossValScore: " ,cv_logrreg.mean())

#Testdataset with selected features
features_test_log = features_test_ohe.loc[:,feature_list]
#Evaluate regression model
eval_regression(model_log, features_test_log, target_test)







