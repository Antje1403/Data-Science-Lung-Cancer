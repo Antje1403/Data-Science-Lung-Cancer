{
 "cells": [
  {
   "cell_type": "code",
   "execution_count": null,
   "id": "721b7f8c-86a3-4590-bccf-52afe1a7070d",
   "metadata": {},
   "outputs": [],
   "source": [
    "notes = [\n",
    "    \"Among lung cancer patients are more smokers than non-smokers.\\n\",\n",
    "    \"Lung cancer patients have more often yellow fingers than non-cancer patients.\\n\",\n",
    "    \"Almost two thirds of the people in the dataset as of cancer patients experienced fatique.\\n\", \n",
    "    \"More allergies among cancer patients.\\n\",\n",
    "    \"Wheezing is increased with cancer group.\\n\",\n",
    "    \"Alcohol consumption is more common in cancer group.\\n\",\n",
    "    \"Almost 60% of people in the dataset experience coughing. Incresed coughing in the cancer group.\\n\",\n",
    "    \"60% of people in the dataset experience shortness of breath. More cases of shortness of breath in the cancer group.\\n\",\n",
    "    \"In the cancer free group only very little people suffer from swallowing difficulty.\\n\",\n",
    "    \"A noticable increase of chest pain in the cancer group.\\n\"]"
   ]
  }
 ],
 "metadata": {
  "kernelspec": {
   "display_name": "Python 3 (ipykernel)",
   "language": "python",
   "name": "python3"
  },
  "language_info": {
   "codemirror_mode": {
    "name": "ipython",
    "version": 3
   },
   "file_extension": ".py",
   "mimetype": "text/x-python",
   "name": "python",
   "nbconvert_exporter": "python",
   "pygments_lexer": "ipython3",
   "version": "3.12.4"
  }
 },
 "nbformat": 4,
 "nbformat_minor": 5
}
